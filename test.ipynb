{
 "cells": [
  {
   "cell_type": "code",
   "execution_count": 1,
   "metadata": {},
   "outputs": [],
   "source": [
    "import numpy as np\n",
    "import scipy.sparse as sp\n",
    "import torch"
   ]
  },
  {
   "cell_type": "code",
   "execution_count": 2,
   "metadata": {},
   "outputs": [],
   "source": [
    "def encode_onehot(labels):\n",
    "    classes = set(labels)\n",
    "    classes_dict = {c: np.identity(len(classes))[i, :] for i, c in enumerate(classes)}\n",
    "    labels_onehot = np.array(list(map(classes_dict.get, labels)), dtype=np.int32)\n",
    "    return labels_onehot\n",
    "# 读取cora.content\n",
    "path=\"./data/cora/\"\n",
    "dataset=\"cora\"\n",
    "idx_features_labels = np.genfromtxt(\"{}{}.content\".format(path, dataset), dtype=np.dtype(str))"
   ]
  },
  {
   "cell_type": "code",
   "execution_count": 3,
   "metadata": {},
   "outputs": [
    {
     "name": "stdout",
     "output_type": "stream",
     "text": [
      "(2708, 1435)\n",
      "<class 'numpy.ndarray'>\n"
     ]
    }
   ],
   "source": [
    "print(idx_features_labels.shape)\n",
    "print(type(idx_features_labels))"
   ]
  },
  {
   "cell_type": "code",
   "execution_count": 4,
   "metadata": {},
   "outputs": [],
   "source": [
    "features = sp.csr_matrix(idx_features_labels[:, 1:-1], dtype=np.float32)\n",
    "labels = encode_onehot(idx_features_labels[:, -1])"
   ]
  },
  {
   "cell_type": "code",
   "execution_count": 5,
   "metadata": {},
   "outputs": [
    {
     "name": "stdout",
     "output_type": "stream",
     "text": [
      "<class 'scipy.sparse.csr.csr_matrix'>\n",
      "(2708, 7)\n",
      "[[1 2 0]\n",
      " [2 1 0]]\n"
     ]
    }
   ],
   "source": [
    "print(type(features))\n",
    "print(labels.shape)\n",
    "# 稀疏存储示例\n",
    "a = np.array([[1,2,0], [2,1,0]])\n",
    "print(a)"
   ]
  },
  {
   "cell_type": "code",
   "execution_count": 6,
   "metadata": {},
   "outputs": [
    {
     "name": "stdout",
     "output_type": "stream",
     "text": [
      "  (0, 0)\t1.0\n",
      "  (0, 1)\t2.0\n",
      "  (1, 0)\t2.0\n",
      "  (1, 1)\t1.0\n",
      "(2, 3)\n"
     ]
    }
   ],
   "source": [
    "a = sp.csr_matrix(a, dtype=np.float32)\n",
    "print(a)\n",
    "print(a.shape) # a.shape表示的是矩阵原始的形状，不是稀疏存储的形状"
   ]
  },
  {
   "cell_type": "code",
   "execution_count": 7,
   "metadata": {},
   "outputs": [],
   "source": [
    "idx = np.array(idx_features_labels[:, 0], dtype=np.int32)  # 取第一列，即论文编号\n",
    "idx_map = {j: i for i, j in enumerate(idx)}  # 为论文重新编号，按照content的顺序编号\n",
    "# print(idx_map)"
   ]
  },
  {
   "cell_type": "code",
   "execution_count": 8,
   "metadata": {},
   "outputs": [
    {
     "name": "stdout",
     "output_type": "stream",
     "text": [
      "(5429, 2)\n"
     ]
    }
   ],
   "source": [
    "edges_unordered = np.genfromtxt(\"{}{}.cites\".format(path, dataset), dtype=np.int32) # 读取引文信息\n",
    "print(edges_unordered.shape)"
   ]
  },
  {
   "cell_type": "code",
   "execution_count": 9,
   "metadata": {},
   "outputs": [
    {
     "name": "stdout",
     "output_type": "stream",
     "text": [
      "(5429, 2)\n"
     ]
    }
   ],
   "source": [
    "edges_unordered.flatten().shape\n",
    "# print(list(map(idx_map.get, edges_unordered.flatten())))\n",
    "# 序号映射，重新编号\n",
    "edges = np.array(list(map(idx_map.get, edges_unordered.flatten())), dtype=np.int32).reshape(edges_unordered.shape)\n",
    "print(edges.shape)"
   ]
  },
  {
   "cell_type": "code",
   "execution_count": 10,
   "metadata": {},
   "outputs": [],
   "source": [
    "# 构建邻接矩阵，存在引用关系的位置为1\n",
    "adj = sp.coo_matrix((np.ones(edges.shape[0]), (edges[:, 0], edges[:, 1])), shape=(labels.shape[0], labels.shape[0]), dtype=np.float32)\n",
    "# build symmetric adjacency matrix 构建一个对称的邻接矩阵\n",
    "adj = adj + adj.T.multiply(adj.T > adj) - adj.multiply(adj.T > adj)"
   ]
  },
  {
   "cell_type": "code",
   "execution_count": 21,
   "metadata": {},
   "outputs": [
    {
     "name": "stdout",
     "output_type": "stream",
     "text": [
      "  (1, 3)\tTrue\n",
      "  (2, 1)\tTrue\n",
      "  (4, 1)\tTrue\n",
      "  (1, 3)\t1.0\n",
      "  (2, 1)\t1.0\n",
      "  (4, 1)\t1.0\n",
      "\n",
      "  (1, 2)\t1.0\n",
      "  (1, 3)\t1.0\n",
      "  (1, 4)\t1.0\n",
      "  (2, 1)\t1.0\n",
      "  (2, 3)\t1.0\n",
      "  (3, 1)\t1.0\n",
      "  (3, 2)\t1.0\n",
      "  (4, 1)\t1.0\n"
     ]
    }
   ],
   "source": [
    "# 测试\n",
    "a = sp.coo_matrix((np.ones(5), ([1,2,3,1,3], [2,3,1,4,2])), shape=(5, 5), dtype=np.float32)\n",
    "b = a.T > a\n",
    "print(b)\n",
    "print(a.T.multiply(b))\n",
    "print(a.multiply(b))\n",
    "a = a + a.T.multiply(a.T > a) - a.multiply(a.T > a)\n",
    "print(a)"
   ]
  },
  {
   "cell_type": "code",
   "execution_count": null,
   "metadata": {},
   "outputs": [],
   "source": []
  },
  {
   "cell_type": "code",
   "execution_count": null,
   "metadata": {},
   "outputs": [],
   "source": []
  }
 ],
 "metadata": {
  "kernelspec": {
   "display_name": "Python 3",
   "language": "python",
   "name": "python3"
  },
  "language_info": {
   "codemirror_mode": {
    "name": "ipython",
    "version": 3
   },
   "file_extension": ".py",
   "mimetype": "text/x-python",
   "name": "python",
   "nbconvert_exporter": "python",
   "pygments_lexer": "ipython3",
   "version": "3.6.6"
  }
 },
 "nbformat": 4,
 "nbformat_minor": 2
}
